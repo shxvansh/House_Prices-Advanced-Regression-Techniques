{
 "cells": [
  {
   "cell_type": "code",
   "execution_count": null,
   "id": "366e5ea3",
   "metadata": {},
   "outputs": [],
   "source": [
    "#importing nce"
   ]
  }
 ],
 "metadata": {
  "language_info": {
   "name": "python"
  }
 },
 "nbformat": 4,
 "nbformat_minor": 5
}
